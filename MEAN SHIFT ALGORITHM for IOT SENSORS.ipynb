{
 "cells": [
  {
   "cell_type": "markdown",
   "metadata": {},
   "source": [
    "# TRAINING THE DATASET"
   ]
  },
  {
   "cell_type": "code",
   "execution_count": 1,
   "metadata": {},
   "outputs": [],
   "source": [
    "import pandas as pd\n",
    "%matplotlib inline"
   ]
  },
  {
   "cell_type": "code",
   "execution_count": 2,
   "metadata": {},
   "outputs": [],
   "source": [
    "datframe = pd.read_csv('column_2C_weka.csv')\n",
    "#datframe.head()"
   ]
  },
  {
   "cell_type": "code",
   "execution_count": 3,
   "metadata": {},
   "outputs": [
    {
     "data": {
      "text/html": [
       "<div>\n",
       "<style scoped>\n",
       "    .dataframe tbody tr th:only-of-type {\n",
       "        vertical-align: middle;\n",
       "    }\n",
       "\n",
       "    .dataframe tbody tr th {\n",
       "        vertical-align: top;\n",
       "    }\n",
       "\n",
       "    .dataframe thead th {\n",
       "        text-align: right;\n",
       "    }\n",
       "</style>\n",
       "<table border=\"1\" class=\"dataframe\">\n",
       "  <thead>\n",
       "    <tr style=\"text-align: right;\">\n",
       "      <th></th>\n",
       "      <th>Humidity</th>\n",
       "      <th>Tempreature</th>\n",
       "      <th>Vibration</th>\n",
       "      <th>class</th>\n",
       "    </tr>\n",
       "  </thead>\n",
       "  <tbody>\n",
       "    <tr>\n",
       "      <th>0</th>\n",
       "      <td>63.027818</td>\n",
       "      <td>98.672917</td>\n",
       "      <td>39.609117</td>\n",
       "      <td>Abnormal</td>\n",
       "    </tr>\n",
       "    <tr>\n",
       "      <th>1</th>\n",
       "      <td>39.056951</td>\n",
       "      <td>114.405425</td>\n",
       "      <td>25.015378</td>\n",
       "      <td>Abnormal</td>\n",
       "    </tr>\n",
       "    <tr>\n",
       "      <th>2</th>\n",
       "      <td>68.832021</td>\n",
       "      <td>105.985135</td>\n",
       "      <td>50.092194</td>\n",
       "      <td>Abnormal</td>\n",
       "    </tr>\n",
       "    <tr>\n",
       "      <th>3</th>\n",
       "      <td>69.297008</td>\n",
       "      <td>101.868495</td>\n",
       "      <td>44.311238</td>\n",
       "      <td>Abnormal</td>\n",
       "    </tr>\n",
       "    <tr>\n",
       "      <th>4</th>\n",
       "      <td>49.712859</td>\n",
       "      <td>108.168725</td>\n",
       "      <td>28.317406</td>\n",
       "      <td>Abnormal</td>\n",
       "    </tr>\n",
       "  </tbody>\n",
       "</table>\n",
       "</div>"
      ],
      "text/plain": [
       "    Humidity  Tempreature  Vibration     class\n",
       "0  63.027818    98.672917  39.609117  Abnormal\n",
       "1  39.056951   114.405425  25.015378  Abnormal\n",
       "2  68.832021   105.985135  50.092194  Abnormal\n",
       "3  69.297008   101.868495  44.311238  Abnormal\n",
       "4  49.712859   108.168725  28.317406  Abnormal"
      ]
     },
     "execution_count": 3,
     "metadata": {},
     "output_type": "execute_result"
    }
   ],
   "source": [
    "#datframe.head()\n",
    "datframe=datframe[['pelvic_incidence','pelvic_radius','lumbar_lordosis_angle','class']]\n",
    "datframe.columns=['Humidity','Tempreature','Vibration','class']\n",
    "datframe.head()"
   ]
  },
  {
   "cell_type": "code",
   "execution_count": 4,
   "metadata": {},
   "outputs": [
    {
     "data": {
      "text/plain": [
       "array(['Abnormal', 'Normal'], dtype=object)"
      ]
     },
     "execution_count": 4,
     "metadata": {},
     "output_type": "execute_result"
    }
   ],
   "source": [
    "datframe['class'].unique()"
   ]
  },
  {
   "cell_type": "code",
   "execution_count": 5,
   "metadata": {},
   "outputs": [],
   "source": [
    "cleanup_names = {'class':{'Abnormal':0,'Normal':1}}"
   ]
  },
  {
   "cell_type": "code",
   "execution_count": 6,
   "metadata": {},
   "outputs": [],
   "source": [
    "datframe.replace(cleanup_names, inplace=True)"
   ]
  },
  {
   "cell_type": "code",
   "execution_count": 7,
   "metadata": {},
   "outputs": [
    {
     "data": {
      "text/html": [
       "<div>\n",
       "<style scoped>\n",
       "    .dataframe tbody tr th:only-of-type {\n",
       "        vertical-align: middle;\n",
       "    }\n",
       "\n",
       "    .dataframe tbody tr th {\n",
       "        vertical-align: top;\n",
       "    }\n",
       "\n",
       "    .dataframe thead th {\n",
       "        text-align: right;\n",
       "    }\n",
       "</style>\n",
       "<table border=\"1\" class=\"dataframe\">\n",
       "  <thead>\n",
       "    <tr style=\"text-align: right;\">\n",
       "      <th></th>\n",
       "      <th>Humidity</th>\n",
       "      <th>Tempreature</th>\n",
       "      <th>Vibration</th>\n",
       "      <th>class</th>\n",
       "    </tr>\n",
       "  </thead>\n",
       "  <tbody>\n",
       "    <tr>\n",
       "      <th>0</th>\n",
       "      <td>63.027818</td>\n",
       "      <td>98.672917</td>\n",
       "      <td>39.609117</td>\n",
       "      <td>0</td>\n",
       "    </tr>\n",
       "    <tr>\n",
       "      <th>1</th>\n",
       "      <td>39.056951</td>\n",
       "      <td>114.405425</td>\n",
       "      <td>25.015378</td>\n",
       "      <td>0</td>\n",
       "    </tr>\n",
       "    <tr>\n",
       "      <th>2</th>\n",
       "      <td>68.832021</td>\n",
       "      <td>105.985135</td>\n",
       "      <td>50.092194</td>\n",
       "      <td>0</td>\n",
       "    </tr>\n",
       "    <tr>\n",
       "      <th>3</th>\n",
       "      <td>69.297008</td>\n",
       "      <td>101.868495</td>\n",
       "      <td>44.311238</td>\n",
       "      <td>0</td>\n",
       "    </tr>\n",
       "    <tr>\n",
       "      <th>4</th>\n",
       "      <td>49.712859</td>\n",
       "      <td>108.168725</td>\n",
       "      <td>28.317406</td>\n",
       "      <td>0</td>\n",
       "    </tr>\n",
       "  </tbody>\n",
       "</table>\n",
       "</div>"
      ],
      "text/plain": [
       "    Humidity  Tempreature  Vibration  class\n",
       "0  63.027818    98.672917  39.609117      0\n",
       "1  39.056951   114.405425  25.015378      0\n",
       "2  68.832021   105.985135  50.092194      0\n",
       "3  69.297008   101.868495  44.311238      0\n",
       "4  49.712859   108.168725  28.317406      0"
      ]
     },
     "execution_count": 7,
     "metadata": {},
     "output_type": "execute_result"
    }
   ],
   "source": [
    "\n",
    "datframe.head()"
   ]
  },
  {
   "cell_type": "code",
   "execution_count": 8,
   "metadata": {},
   "outputs": [
    {
     "data": {
      "image/png": "[encoded data removed]",
      "text/plain": [
       "<Figure size 432x288 with 1 Axes>"
      ]
     },
     "metadata": {
      "needs_background": "light"
     },
     "output_type": "display_data"
    },
    {
     "data": {
      "image/png": "[encoded data removed]",
      "text/plain": [
       "<Figure size 432x288 with 1 Axes>"
      ]
     },
     "metadata": {
      "needs_background": "light"
     },
     "output_type": "display_data"
    },
    {
     "data": {
      "image/png": "[encoded data removed]",
      "text/plain": [
       "<Figure size 432x288 with 1 Axes>"
      ]
     },
     "metadata": {
      "needs_background": "light"
     },
     "output_type": "display_data"
    }
   ],
   "source": [
    "for i in datframe.columns[:-1]:\n",
    "    ax1 = datframe.plot.scatter(x=i, y=\"class\")"
   ]
  },
  {
   "cell_type": "code",
   "execution_count": 9,
   "metadata": {},
   "outputs": [
    {
     "data": {
      "image/png": "[encoded data removed]",
      "text/plain": [
       "<Figure size 432x288 with 1 Axes>"
      ]
     },
     "metadata": {
      "needs_background": "light"
     },
     "output_type": "display_data"
    }
   ],
   "source": [
    "import seaborn as sns\n",
    "for i in datframe.columns[:-1]:\n",
    "    sns.boxplot(x=datframe[i])"
   ]
  },
  {
   "cell_type": "code",
   "execution_count": 11,
   "metadata": {},
   "outputs": [],
   "source": [
    "import numpy as np\n",
    "labs=datframe['class']\n",
    "labs=np.asarray(labs)\n",
    "labs = np.reshape(labs,(-1,1))"
   ]
  },
  {
   "cell_type": "markdown",
   "metadata": {},
   "source": [
    "# USING MEAN SHIFT ALGORITHM for all the types of SENSORS"
   ]
  },
  {
   "cell_type": "code",
   "execution_count": 12,
   "metadata": {},
   "outputs": [],
   "source": [
    "#Making imports\n",
    "import numpy as np\n",
    "from sklearn.cluster import MeanShift, estimate_bandwidth\n",
    "import matplotlib.pyplot as plt\n",
    "\n",
    "\n",
    "#CLUSTERING FUNCTION: default threshold value is 15\n",
    "def cluster(cols,test=None,threshold=15):\n",
    "    \n",
    "    train_data = np.array(datframe[cols])\n",
    "    #print(max(train_data),min(train_data))\n",
    "    X_train = np.reshape(train_data,(-1,1))\n",
    "    ms = MeanShift(bandwidth=None, bin_seeding=True)\n",
    "    ms.fit(X_train)\n",
    "    labels = ms.labels_\n",
    "    gg=[X_train,labs]\n",
    "    gg=np.asarray(gg)\n",
    "    cluster_centers = ms.cluster_centers_\n",
    "    \n",
    "    #print(cluster_centers)\n",
    "\n",
    "    labels_unique = np.unique(labels)\n",
    "    n_clusters_ = len(labels_unique)\n",
    "\n",
    "    print(\"number of estimated clusters : %d\" % n_clusters_)\n",
    "    print(labels)\n",
    "\n",
    "    plt.figure(1)\n",
    "    plt.clf()\n",
    "    X=gg\n",
    "    colors = ['b','g','r','c','m','y']\n",
    "    for i in range(len(X_train)):\n",
    "        p=labels[i]\n",
    "        #print(X_train[i][0],labs[i][0])\n",
    "        color=colors[p]\n",
    "        plt.scatter(X_train[i],labs[i],color=color)\n",
    "    if test:\n",
    "        d=np.asarray(test)\n",
    "        dt=d.transpose()\n",
    "        points=dt[0]\n",
    "        bs=dt[1]\n",
    "        plt.scatter(points,bs,marker='*')\n",
    "        \n",
    "        print('\\n The Nearest Clusters for the following points are')\n",
    "        \n",
    "        outs=ms.predict(points.reshape(-1,1))\n",
    "        print(outs)\n",
    "        print('\\n\\n\\n')\n",
    "        cents=[]\n",
    "        for i in outs:\n",
    "            cents.append(int(list(cluster_centers)[i]))\n",
    "        cents=np.asarray(cents)\n",
    "        \n",
    "        #Checking if the differece is greater than the threshold\n",
    "        ans=points-cents\n",
    "        #print(ans)\n",
    "        rejected,passed=[],[]\n",
    "        for i in range(len(ans)):\n",
    "            if abs(ans[i])>threshold:\n",
    "                rejected.append(test[i])\n",
    "            else:\n",
    "                passed.append(test[i])\n",
    "        return (rejected,passed)\n",
    "        \n",
    "            \n",
    "    #plt.scatter(train_data,labs)  \n",
    "    plt.title('Estimated number of clusters: %d' % n_clusters_)\n",
    "    plt.show()\n",
    "\n"
   ]
  },
  {
   "cell_type": "markdown",
   "metadata": {},
   "source": [
    "# CLUSTERING RESULTS FOR ALL 3 SENSORS"
   ]
  },
  {
   "cell_type": "code",
   "execution_count": 13,
   "metadata": {},
   "outputs": [
    {
     "name": "stdout",
     "output_type": "stream",
     "text": [
      "Humidity\n",
      "number of estimated clusters : 4\n",
      "[1 0 1 1 0 0 0 0 0 0 0 0 0 0 1 0 1 0 0 0 0 1 1 0 0 0 0 0 0 1 0 0 0 0 1 0 0\n",
      " 0 1 0 0 0 0 1 1 0 0 0 0 0 1 1 0 0 0 0 0 0 0 0 1 2 0 1 1 1 1 1 1 1 1 1 1 1\n",
      " 1 1 1 1 1 0 1 1 1 1 1 0 1 0 1 1 1 1 1 1 2 1 2 1 1 1 1 1 1 0 1 1 1 1 1 1 1\n",
      " 1 0 1 1 3 1 1 1 1 0 1 1 1 1 0 1 1 2 1 0 1 1 1 0 1 1 1 1 1 1 2 1 1 1 1 1 1\n",
      " 1 1 1 0 1 1 0 1 1 0 1 1 2 1 2 2 0 1 1 1 2 0 1 1 1 0 1 1 1 1 1 1 0 1 1 1 1\n",
      " 2 1 1 1 1 0 1 1 1 1 1 1 1 1 1 1 1 1 1 1 1 2 1 1 0 0 1 0 0 0 0 0 0 0 1 0 1\n",
      " 1 1 2 1 1 1 0 0 1 0 0 0 0 1 1 1 1 1 0 0 0 0 1 0 0 0 0 0 0 0 0 1 1 1 0 0 0\n",
      " 1 0 1 0 0 0 0 0 0 1 0 0 0 0 0 0 1 0 1 0 0 0 1 0 0 1 1 1 0 1 0 0 0 0 0 0 0\n",
      " 0 0 1 1 0 1 0 0 0 0 0 1 0 0]\n"
     ]
    },
    {
     "data": {
      "image/png": "[encoded data removed]",
      "text/plain": [
       "<Figure size 432x288 with 1 Axes>"
      ]
     },
     "metadata": {
      "needs_background": "light"
     },
     "output_type": "display_data"
    },
    {
     "name": "stdout",
     "output_type": "stream",
     "text": [
      "\n",
      "\n",
      "\n",
      "\n",
      "Tempreature\n",
      "number of estimated clusters : 3\n",
      "[0 0 0 0 0 0 0 0 0 2 0 0 0 0 0 0 0 0 0 0 0 0 0 0 0 0 0 0 0 0 0 0 0 0 0 0 0\n",
      " 0 0 0 0 0 0 0 0 0 0 0 0 0 0 0 0 0 0 0 0 0 0 0 1 0 0 0 0 0 0 0 0 0 0 0 0 0\n",
      " 0 1 0 0 0 0 0 0 0 1 0 1 0 0 0 0 0 0 0 0 0 1 0 0 0 0 0 0 0 0 0 0 0 0 0 0 0\n",
      " 0 0 0 1 0 0 0 0 0 0 0 0 0 0 0 0 0 0 0 0 0 0 0 0 0 0 0 0 0 0 0 0 0 0 0 0 0\n",
      " 0 0 2 0 0 0 0 2 0 0 0 0 0 0 2 0 0 0 0 2 2 0 0 0 2 2 0 0 0 2 0 0 1 2 0 0 0\n",
      " 0 2 0 0 0 2 0 1 0 0 0 2 0 0 0 0 1 0 0 0 0 0 0 0 0 0 0 0 0 0 1 0 0 0 0 0 0\n",
      " 0 0 0 0 1 0 0 0 0 0 0 0 0 0 0 0 0 0 0 0 0 0 0 0 0 0 0 0 0 0 0 0 0 0 0 0 0\n",
      " 0 0 0 0 0 0 0 0 0 0 0 0 0 0 0 0 0 0 0 0 0 0 0 0 0 0 0 0 0 0 0 0 0 0 0 0 0\n",
      " 0 0 0 0 0 0 0 0 1 0 0 0 0 0]\n"
     ]
    },
    {
     "data": {
      "image/png": "[encoded data removed]",
      "text/plain": [
       "<Figure size 432x288 with 1 Axes>"
      ]
     },
     "metadata": {
      "needs_background": "light"
     },
     "output_type": "display_data"
    },
    {
     "name": "stdout",
     "output_type": "stream",
     "text": [
      "\n",
      "\n",
      "\n",
      "\n",
      "Vibration\n",
      "number of estimated clusters : 2\n",
      "[0 0 0 0 0 0 0 0 0 0 0 0 0 0 0 0 0 0 0 0 0 0 0 0 0 0 0 0 0 0 0 0 0 0 0 0 0\n",
      " 0 0 0 0 0 0 0 0 0 0 0 0 0 0 0 0 0 0 0 0 0 0 0 0 0 0 0 0 0 0 0 0 0 0 0 0 0\n",
      " 1 0 0 0 0 0 0 0 0 0 0 0 0 0 0 0 0 0 0 0 0 0 1 0 1 0 0 0 0 0 0 0 0 0 0 0 0\n",
      " 0 0 0 1 0 0 0 0 0 0 1 0 0 0 0 0 0 0 0 0 0 0 0 0 0 0 0 0 1 0 0 1 0 0 0 0 0\n",
      " 0 0 0 0 0 0 0 0 0 0 0 0 0 0 0 0 0 0 0 0 1 0 0 0 0 0 0 0 0 0 0 0 0 0 1 1 1\n",
      " 1 0 0 0 0 0 0 0 0 0 1 0 1 0 0 0 1 1 0 0 1 0 0 1 0 0 0 0 0 0 0 0 0 0 0 0 0\n",
      " 0 0 1 0 0 0 0 0 0 0 0 0 0 0 0 0 0 0 0 0 0 0 0 0 0 0 0 0 0 0 0 0 0 0 0 0 0\n",
      " 0 0 0 0 0 0 0 0 0 0 0 0 0 0 0 0 0 0 0 0 0 0 0 0 0 0 0 0 0 0 0 0 0 0 0 0 0\n",
      " 0 0 0 0 0 0 0 0 0 0 0 0 0 0]\n"
     ]
    },
    {
     "data": {
      "image/png": "[encoded data removed]",
      "text/plain": [
       "<Figure size 432x288 with 1 Axes>"
      ]
     },
     "metadata": {
      "needs_background": "light"
     },
     "output_type": "display_data"
    },
    {
     "name": "stdout",
     "output_type": "stream",
     "text": [
      "\n",
      "\n",
      "\n",
      "\n"
     ]
    }
   ],
   "source": [
    "for i in datframe.columns[:-1]:\n",
    "    print(i)\n",
    "    \n",
    "    cluster(i)\n",
    "    print('\\n\\n\\n')"
   ]
  },
  {
   "cell_type": "markdown",
   "metadata": {},
   "source": [
    "# RANDOM TEST DATA GENERATOR"
   ]
  },
  {
   "cell_type": "code",
   "execution_count": 14,
   "metadata": {},
   "outputs": [],
   "source": [
    "import random\n",
    "\n",
    "def generate():\n",
    "    s=[0,1]\n",
    "    test=[]\n",
    "    for i in range(20):\n",
    "        g=random.random()*100\n",
    "        random.shuffle(s)\n",
    "        test.append([g,s[0]])\n",
    "    return test\n",
    "    "
   ]
  },
  {
   "cell_type": "markdown",
   "metadata": {},
   "source": [
    "# EXAMPLES"
   ]
  },
  {
   "cell_type": "code",
   "execution_count": 15,
   "metadata": {},
   "outputs": [
    {
     "name": "stdout",
     "output_type": "stream",
     "text": [
      "number of estimated clusters : 3\n",
      "[0 0 0 0 0 0 0 0 0 2 0 0 0 0 0 0 0 0 0 0 0 0 0 0 0 0 0 0 0 0 0 0 0 0 0 0 0\n",
      " 0 0 0 0 0 0 0 0 0 0 0 0 0 0 0 0 0 0 0 0 0 0 0 1 0 0 0 0 0 0 0 0 0 0 0 0 0\n",
      " 0 1 0 0 0 0 0 0 0 1 0 1 0 0 0 0 0 0 0 0 0 1 0 0 0 0 0 0 0 0 0 0 0 0 0 0 0\n",
      " 0 0 0 1 0 0 0 0 0 0 0 0 0 0 0 0 0 0 0 0 0 0 0 0 0 0 0 0 0 0 0 0 0 0 0 0 0\n",
      " 0 0 2 0 0 0 0 2 0 0 0 0 0 0 2 0 0 0 0 2 2 0 0 0 2 2 0 0 0 2 0 0 1 2 0 0 0\n",
      " 0 2 0 0 0 2 0 1 0 0 0 2 0 0 0 0 1 0 0 0 0 0 0 0 0 0 0 0 0 0 1 0 0 0 0 0 0\n",
      " 0 0 0 0 1 0 0 0 0 0 0 0 0 0 0 0 0 0 0 0 0 0 0 0 0 0 0 0 0 0 0 0 0 0 0 0 0\n",
      " 0 0 0 0 0 0 0 0 0 0 0 0 0 0 0 0 0 0 0 0 0 0 0 0 0 0 0 0 0 0 0 0 0 0 0 0 0\n",
      " 0 0 0 0 0 0 0 0 1 0 0 0 0 0]\n",
      "\n",
      " The Nearest Clusters for the following points are\n",
      "[2 2 2 2 2 2 2 0 2 2 2 2 2 2 2 0 2 2 2 2]\n",
      "\n",
      "\n",
      "\n",
      "\n",
      "The Rejected list is:  [[90.26200141627938, 1], [5.974546820057036, 1], [18.539472823091263, 0], [9.955828204349192, 0], [47.05972333998735, 0], [97.10186138824842, 1], [87.69205474236766, 1], [34.4969911951578, 1], [42.13544099112438, 0], [51.655082280129974, 1], [29.40541391563537, 1], [99.89191726826535, 1], [11.842492490898326, 1], [93.29481639863432, 0]] \n",
      "\n",
      "The Passed list is:  [[82.35427889185385, 1], [59.50976377073426, 1], [59.9278971309973, 0], [74.00535908185071, 1], [82.61767598543297, 0], [78.20496540095372, 0]] \n",
      "\n"
     ]
    },
    {
     "data": {
      "image/png": "[encoded data removed]",
      "text/plain": [
       "<Figure size 432x288 with 1 Axes>"
      ]
     },
     "metadata": {
      "needs_background": "light"
     },
     "output_type": "display_data"
    }
   ],
   "source": [
    "answer=cluster('Tempreature',generate())\n",
    "print('The Rejected list is: ',answer[0],'\\n')\n",
    "print('The Passed list is: ',answer[1],'\\n')"
   ]
  },
  {
   "cell_type": "code",
   "execution_count": 16,
   "metadata": {},
   "outputs": [
    {
     "name": "stdout",
     "output_type": "stream",
     "text": [
      "number of estimated clusters : 4\n",
      "[1 0 1 1 0 0 0 0 0 0 0 0 0 0 1 0 1 0 0 0 0 1 1 0 0 0 0 0 0 1 0 0 0 0 1 0 0\n",
      " 0 1 0 0 0 0 1 1 0 0 0 0 0 1 1 0 0 0 0 0 0 0 0 1 2 0 1 1 1 1 1 1 1 1 1 1 1\n",
      " 1 1 1 1 1 0 1 1 1 1 1 0 1 0 1 1 1 1 1 1 2 1 2 1 1 1 1 1 1 0 1 1 1 1 1 1 1\n",
      " 1 0 1 1 3 1 1 1 1 0 1 1 1 1 0 1 1 2 1 0 1 1 1 0 1 1 1 1 1 1 2 1 1 1 1 1 1\n",
      " 1 1 1 0 1 1 0 1 1 0 1 1 2 1 2 2 0 1 1 1 2 0 1 1 1 0 1 1 1 1 1 1 0 1 1 1 1\n",
      " 2 1 1 1 1 0 1 1 1 1 1 1 1 1 1 1 1 1 1 1 1 2 1 1 0 0 1 0 0 0 0 0 0 0 1 0 1\n",
      " 1 1 2 1 1 1 0 0 1 0 0 0 0 1 1 1 1 1 0 0 0 0 1 0 0 0 0 0 0 0 0 1 1 1 0 0 0\n",
      " 1 0 1 0 0 0 0 0 0 1 0 0 0 0 0 0 1 0 1 0 0 0 1 0 0 1 1 1 0 1 0 0 0 0 0 0 0\n",
      " 0 0 1 1 0 1 0 0 0 0 0 1 0 0]\n",
      "\n",
      " The Nearest Clusters for the following points are\n",
      "[1 0 0 0 0 0 2 0 0 1 1 1 1 1 0 2 1 0 0 0]\n",
      "\n",
      "\n",
      "\n",
      "\n",
      "The Rejected list is:  [[78.41836511354171, 1], [15.690649177090531, 1], [10.552077391559067, 1], [21.992116856841616, 0], [26.83667429546569, 0], [4.354466835096904, 1], [96.92996212365566, 0], [1.3486669158345732, 1], [85.38363870536165, 0], [99.11656841344345, 0], [30.011149240505198, 0]] \n",
      "\n",
      "The Passed list is:  [[46.45017506661341, 1], [62.36951071168145, 1], [73.63081413803408, 1], [60.46100632027832, 1], [62.171771931715845, 0], [50.09157697797205, 1], [63.79504632157234, 0], [50.79411426680009, 0], [46.02830989447521, 1]] \n",
      "\n"
     ]
    },
    {
     "data": {
      "image/png": "[encoded data removed]",
      "text/plain": [
       "<Figure size 432x288 with 1 Axes>"
      ]
     },
     "metadata": {
      "needs_background": "light"
     },
     "output_type": "display_data"
    }
   ],
   "source": [
    "answer=cluster('Humidity',generate())\n",
    "print('The Rejected list is: ',answer[0],'\\n')\n",
    "print('The Passed list is: ',answer[1],'\\n')"
   ]
  },
  {
   "cell_type": "code",
   "execution_count": null,
   "metadata": {},
   "outputs": [],
   "source": []
  },
  {
   "cell_type": "code",
   "execution_count": null,
   "metadata": {},
   "outputs": [],
   "source": []
  }
 ],
 "metadata": {
  "kernelspec": {
   "display_name": "Python 3",
   "language": "python",
   "name": "python3"
  },
  "language_info": {
   "codemirror_mode": {
    "name": "ipython",
    "version": 3
   },
   "file_extension": ".py",
   "mimetype": "text/x-python",
   "name": "python",
   "nbconvert_exporter": "python",
   "pygments_lexer": "ipython3",
   "version": "3.6.7"
  }
 },
 "nbformat": 4,
 "nbformat_minor": 2
}
